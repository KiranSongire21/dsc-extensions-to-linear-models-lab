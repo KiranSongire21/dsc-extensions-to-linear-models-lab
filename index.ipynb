{
 "cells": [
  {
   "cell_type": "markdown",
   "metadata": {},
   "source": [
    "# Extensions to Linear Models - Lab"
   ]
  },
  {
   "cell_type": "markdown",
   "metadata": {},
   "source": [
    "## Introduction\n",
    "\n",
    "In this lab, you'll practice many concepts you have learned so far, from adding interactions and polynomials to your model to regularization!"
   ]
  },
  {
   "cell_type": "markdown",
   "metadata": {},
   "source": [
    "## Summary\n",
    "\n",
    "You will be able to:\n",
    "\n",
    "- Build a linear regression model with interactions and polynomial features \n",
    "- Use feature selection to obtain the optimal subset of features in a dataset"
   ]
  },
  {
   "cell_type": "markdown",
   "metadata": {},
   "source": [
    "## Let's Get Started!\n",
    "\n",
    "Below we import all the necessary packages for this lab."
   ]
  },
  {
   "cell_type": "code",
   "execution_count": 31,
   "metadata": {},
   "outputs": [],
   "source": [
    "# Run this cell without changes\n",
    "\n",
    "import pandas as pd\n",
    "import numpy as np\n",
    "import matplotlib.pyplot as plt\n",
    "import warnings\n",
    "warnings.filterwarnings('ignore')\n",
    "from itertools import combinations\n",
    "\n",
    "from sklearn.feature_selection import RFE\n",
    "from sklearn.linear_model import LinearRegression, LassoCV\n",
    "from sklearn.metrics import mean_squared_error\n",
    "from sklearn.model_selection import train_test_split\n",
    "from sklearn.preprocessing import StandardScaler, PolynomialFeatures\n",
    "from sklearn.model_selection import RepeatedKFold"
   ]
  },
  {
   "cell_type": "markdown",
   "metadata": {},
   "source": [
    "Load the data."
   ]
  },
  {
   "cell_type": "code",
   "execution_count": 19,
   "metadata": {},
   "outputs": [],
   "source": [
    "# Run this cell without changes\n",
    "\n",
    "# Load data from CSV\n",
    "df = pd.read_csv(\"ames.csv\")\n",
    "# Subset columns\n",
    "df = df[['LotArea', 'OverallQual', 'OverallCond', 'TotalBsmtSF',\n",
    "         '1stFlrSF', '2ndFlrSF', 'GrLivArea', 'TotRmsAbvGrd',\n",
    "         'GarageArea', 'Fireplaces', 'SalePrice']]\n",
    "\n",
    "# Split the data into X and y\n",
    "y = df['SalePrice']\n",
    "X = df.drop(columns='SalePrice')\n",
    "\n",
    "# Split into train, test, and validation sets\n",
    "X_train, X_test, y_train, y_test = train_test_split(X, y, random_state=42)\n",
    "X_train, X_val, y_train, y_val = train_test_split(X_train, y_train, random_state=0)"
   ]
  },
  {
   "cell_type": "markdown",
   "metadata": {},
   "source": [
    "## Build a Baseline Housing Data Model"
   ]
  },
  {
   "cell_type": "markdown",
   "metadata": {},
   "source": [
    "Above, we imported the Ames housing data and grabbed a subset of the data to use in this analysis.\n",
    "\n",
    "Next steps:\n",
    "\n",
    "- Scale all the predictors using `StandardScaler`, then convert these scaled features back into DataFrame objects\n",
    "- Build a baseline `LinearRegression` model using *scaled variables* as predictors and use the $R^2$ score to evaluate the model "
   ]
  },
  {
   "cell_type": "code",
   "execution_count": 20,
   "metadata": {},
   "outputs": [
    {
     "data": {
      "text/plain": [
       "(821, 10)"
      ]
     },
     "execution_count": 20,
     "metadata": {},
     "output_type": "execute_result"
    }
   ],
   "source": [
    "# Your code here\n",
    "# Scale X_train and X_val using StandardScaler\n",
    "scaler = StandardScaler()\n",
    "X_train[X_train.columns] = scaler.fit_transform(X_train)\n",
    "X_val[X_val.columns] = scaler.transform(X_val)\n",
    "\n",
    "assert type(X_train) == pd.DataFrame\n",
    "assert type(X_val) == pd.DataFrame\n",
    "X_train.shape"
   ]
  },
  {
   "cell_type": "code",
   "execution_count": 21,
   "metadata": {},
   "outputs": [
    {
     "data": {
      "text/plain": [
       "0.7868344817421309"
      ]
     },
     "execution_count": 21,
     "metadata": {},
     "output_type": "execute_result"
    }
   ],
   "source": [
    "# Your code here\n",
    "# Create a LinearRegression model and fit it on scaled training data\n",
    "linreg = LinearRegression().fit(X_train, y_train)\n",
    "\n",
    "# Calculate a baseline r-squared score on training data\n",
    "linreg.score(X_train, y_train)\n"
   ]
  },
  {
   "cell_type": "markdown",
   "metadata": {},
   "source": [
    "## Add Interactions\n",
    "\n",
    "Instead of adding all possible interaction terms, let's try a custom technique. We are only going to add the interaction terms that increase the $R^2$ score as much as possible. Specifically we are going to look for the 7 interaction terms that each cause the most increase in the coefficient of determination.\n",
    "\n",
    "### Find the Best Interactions\n",
    "\n",
    "Look at all the possible combinations of variables for interactions by adding interactions one by one to the baseline model. Create a data structure that stores the pair of columns used as well as the $R^2$ score for each combination.\n",
    "\n",
    "***Hint:*** We have imported the `combinations` function from `itertools` for you ([documentation here](https://docs.python.org/3/library/itertools.html#itertools.combinations)). Try applying this to the columns of `X_train` to find all of the possible pairs.\n",
    "\n",
    "Print the 7 interactions that result in the highest $R^2$ scores."
   ]
  },
  {
   "cell_type": "code",
   "execution_count": 22,
   "metadata": {},
   "outputs": [
    {
     "name": "stdout",
     "output_type": "stream",
     "text": [
      "Top 7 Interaction Terms:\n",
      "Interaction: ('LotArea', '1stFlrSF'), R^2: 0.7211105666140571\n",
      "Interaction: ('LotArea', 'TotalBsmtSF'), R^2: 0.707164920705011\n",
      "Interaction: ('LotArea', 'GrLivArea'), R^2: 0.6690980823779022\n",
      "Interaction: ('LotArea', 'Fireplaces'), R^2: 0.6529699515652586\n",
      "Interaction: ('2ndFlrSF', 'TotRmsAbvGrd'), R^2: 0.647299489040519\n",
      "Interaction: ('OverallCond', 'TotalBsmtSF'), R^2: 0.642901987923377\n",
      "Interaction: ('OverallQual', '2ndFlrSF'), R^2: 0.6422324294284367\n"
     ]
    }
   ],
   "source": [
    "# Generate all possible pairs of columns\n",
    "combos = list(combinations(X_train.columns, 2))\n",
    "r2_scores = []\n",
    "\n",
    "# Find combinations of columns and loop over them\n",
    "for combo in combos:\n",
    "    # Make copies of X_train and X_val\n",
    "    x_train_copy = X_train.copy()\n",
    "    x_val_copy = X_val.copy()\n",
    "    \n",
    "    # Add interaction term to data\n",
    "    interaction_term_name = f\"{combo[0]}_{combo[1]}\"\n",
    "    x_train_copy[interaction_term_name] = x_train_copy[combo[0]] * x_train_copy[combo[1]]\n",
    "    x_val_copy[interaction_term_name] = x_val_copy[combo[0]] * x_val_copy[combo[1]]\n",
    "    \n",
    "    # Fit the model on training data and evaluate on validation data\n",
    "    linreg = LinearRegression().fit(x_train_copy, y_train)\n",
    "    r2_score_val = linreg.score(x_val_copy, y_val)\n",
    "    \n",
    "    # Store the combination and its corresponding R^2 score\n",
    "    r2_scores.append((combo, r2_score_val))\n",
    "\n",
    "# Sort the results by R^2 score in descending order\n",
    "r2_scores.sort(key=lambda x: x[1], reverse=True)\n",
    "\n",
    "# Extract the top 7 interactions\n",
    "top_7_interactions = r2_scores[:7]\n",
    "\n",
    "# Print the top 7 interactions and their R^2 scores\n",
    "print(\"Top 7 Interaction Terms:\")\n",
    "for interaction, r2 in top_7_interactions:\n",
    "    print(f\"Interaction: {interaction}, R^2: {r2}\")"
   ]
  },
  {
   "cell_type": "markdown",
   "metadata": {},
   "source": [
    "### Add the Best Interactions\n",
    "\n",
    "Write code to include the 7 most important interactions in `X_train` and `X_val` by adding 7 columns. Use the naming convention `\"col1_col2\"`, where `col1` and `col2` are the two columns in the interaction."
   ]
  },
  {
   "cell_type": "code",
   "execution_count": 23,
   "metadata": {},
   "outputs": [],
   "source": [
    "# Your code here\n",
    "\n",
    "# Loop over top 7 interactions\n",
    "for interaction, r2 in top_7_interactions:\n",
    "    # Add new column to X_train and X_val\n",
    "    X_train[f\"{interaction[0]}_{interaction[1]}\"] = X_train[interaction[0]] * X_train[interaction[1]]\n",
    "    X_val[f\"{interaction[0]}_{interaction[1]}\"] = X_val[interaction[0]] * X_val[interaction[1]]\n"
   ]
  },
  {
   "cell_type": "markdown",
   "metadata": {},
   "source": [
    "## Add Polynomials\n",
    "\n",
    "Now let's repeat that process for adding polynomial terms.\n",
    "\n",
    "### Find the Best Polynomials\n",
    "\n",
    "Try polynomials of degrees 2, 3, and 4 for each variable, in a similar way you did for interactions (by looking at your baseline model and seeing how $R^2$ increases). Do understand that when going for a polynomial of degree 4 with `PolynomialFeatures`, the particular column is raised to the power of 2 and 3 as well in other terms.\n",
    "\n",
    "We only want to include \"pure\" polynomials, so make sure no interactions are included.\n",
    "\n",
    "Once again you should make a data structure that contains the values you have tested. We recommend a list of tuples of the form:\n",
    "\n",
    "`(col_name, degree, R2)`, so eg. `('OverallQual', 2, 0.781)` "
   ]
  },
  {
   "cell_type": "code",
   "execution_count": 24,
   "metadata": {},
   "outputs": [],
   "source": [
    "# Your code here\n",
    "\n",
    "# Set up data structure\n",
    "r2_scores = []\n",
    "# Loop over all columns\n",
    "for column in X_train.columns:\n",
    "    # Loop over degrees 2, 3, 4\n",
    "    for degree in [2, 3, 4]:    \n",
    "        # Make a copy of X_train and X_val\n",
    "        x_train_copy = X_train.copy()\n",
    "        x_val_copy = X_val.copy()\n",
    "        # Instantiate PolynomialFeatures with relevant degree\n",
    "        poly = PolynomialFeatures(degree)\n",
    "        x_train_copy[column] = poly.fit_transform(x_train_copy[[column]])\n",
    "        x_val_copy[column] = poly.transform(x_val_copy[[column]])\n",
    "        # Fit polynomial to column and transform column\n",
    "        # Hint: use the notation df[[column_name]] to get the right shape\n",
    "        # Hint: convert the result to a DataFrame\n",
    "        # Add polynomial to data\n",
    "        # Hint: use pd.concat since you're combining two DataFrames\n",
    "        # Hint: drop the column before combining so it doesn't appear twice\n",
    "        linreg = LinearRegression().fit(x_train_copy, y_train)\n",
    "        r2_scores.append((column, degree, linreg.score(x_val_copy, y_val)))\n",
    "    \n",
    "        # Find r-squared score on validation\n",
    "    \n",
    "        # Append to data structure\n",
    "\n",
    "# Sort and subset the data structure to find the top 7\n",
    "r2_scores.sort(key=lambda x: x[2], reverse=True)\n",
    "top_7_columns = r2_scores[:7]"
   ]
  },
  {
   "cell_type": "markdown",
   "metadata": {},
   "source": [
    "### Add the Best Polynomials\n",
    "\n",
    "If there are duplicate column values in the results above, don't add multiple of them to the model, to avoid creating duplicate columns. (For example, if column `A` appeared in your list as both a 2nd and 3rd degree polynomial, adding both would result in `A` squared being added to the features twice.) Just add in the polynomial that results in the highest R-Squared."
   ]
  },
  {
   "cell_type": "code",
   "execution_count": 25,
   "metadata": {},
   "outputs": [
    {
     "name": "stdout",
     "output_type": "stream",
     "text": [
      "(821, 3) (274, 3)\n",
      "(821, 6) (274, 6)\n",
      "(821, 9) (274, 9)\n"
     ]
    }
   ],
   "source": [
    "# Your code here\n",
    "\n",
    "# Filter out duplicates\n",
    "top_7_columns = pd.DataFrame(top_7_columns).drop_duplicates(subset=[0]).values\n",
    "polynomial_df = pd.DataFrame()\n",
    "polynomial_df_val = pd.DataFrame()\n",
    "\n",
    "# Loop over remaining results\n",
    "for column, degree, r2 in top_7_columns:\n",
    "    # Create polynomial terms\n",
    "    poly = PolynomialFeatures(degree)\n",
    "    \n",
    "    poly_train = poly.fit_transform(X_train[[column]])\n",
    "    cols = [column+str(i+1) for i in range(degree + 1)]\n",
    "    polynomial_df_item = pd.DataFrame(poly_train)\n",
    "    polynomial_df_item.columns = cols\n",
    "    \n",
    "    poly_val = poly.transform(X_val[[column]])\n",
    "    polynomial_df_val_item = pd.DataFrame(poly_val)\n",
    "    polynomial_df_val_item.columns = cols  \n",
    "\n",
    "    # Concat new polynomials to X_train and X_val\n",
    "    polynomial_df = pd.concat([polynomial_df, polynomial_df_item], axis=1)\n",
    "    polynomial_df_val = pd.concat([polynomial_df_val, polynomial_df_val_item], axis=1)\n",
    "    print(polynomial_df.shape, polynomial_df_val.shape)\n",
    "    "
   ]
  },
  {
   "cell_type": "markdown",
   "metadata": {},
   "source": [
    "Check out your final data set and make sure that your interaction terms as well as your polynomial terms are included."
   ]
  },
  {
   "cell_type": "code",
   "execution_count": 26,
   "metadata": {},
   "outputs": [],
   "source": [
    "# Your code here\n",
    "X_train = pd.concat([X_train.reset_index(), polynomial_df], axis=1).iloc[:, 1:]\n",
    "X_val = pd.concat([X_val.reset_index(), polynomial_df_val], axis=1).iloc[:, 1:]"
   ]
  },
  {
   "cell_type": "markdown",
   "metadata": {},
   "source": [
    "## Full Model R-Squared"
   ]
  },
  {
   "cell_type": "markdown",
   "metadata": {},
   "source": [
    "Check out the $R^2$ of the full model with your interaction and polynomial terms added. Print this value for both the train and validation data."
   ]
  },
  {
   "cell_type": "code",
   "execution_count": 27,
   "metadata": {},
   "outputs": [
    {
     "name": "stdout",
     "output_type": "stream",
     "text": [
      "training score: 0.8086458669828204\n",
      "validation score: 0.624154517464438\n"
     ]
    }
   ],
   "source": [
    "# Your code here\n",
    "linreg = LinearRegression().fit(X_train, y_train)\n",
    "print(f\"training score: {linreg.score(X_train, y_train)}\")\n",
    "print(f\"validation score: {linreg.score(X_val, y_val)}\")"
   ]
  },
  {
   "cell_type": "markdown",
   "metadata": {},
   "source": [
    "It looks like we may be overfitting some now. Let's try some feature selection techniques."
   ]
  },
  {
   "cell_type": "markdown",
   "metadata": {},
   "source": [
    "## Feature Selection\n",
    "\n",
    "First, test out `RFE` ([documentation here](https://scikit-learn.org/stable/modules/generated/sklearn.feature_selection.RFE.html)) with several different `n_features_to_select` values. For each value, print out the train and validation $R^2$ score and how many features remain."
   ]
  },
  {
   "cell_type": "code",
   "execution_count": 28,
   "metadata": {},
   "outputs": [],
   "source": [
    "# Your code here\n",
    "train_scores, test_scores = [], []\n",
    "for i in range(1, len(X_train.columns)):\n",
    "    linreg = LinearRegression()\n",
    "    rfe = RFE(linreg, n_features_to_select=i).fit(X_train, y_train)\n",
    "    train_scores.append(rfe.score(X_train, y_train))\n",
    "    test_scores.append(rfe.score(X_val, y_val))\n"
   ]
  },
  {
   "cell_type": "markdown",
   "metadata": {},
   "source": [
    "Now test out `Lasso` ([documentation here](https://scikit-learn.org/stable/modules/generated/sklearn.linear_model.Lasso.html)) with several different `alpha` values."
   ]
  },
  {
   "cell_type": "code",
   "execution_count": 29,
   "metadata": {},
   "outputs": [
    {
     "data": {
      "image/png": "[encoded data removed]",
      "text/plain": [
       "<Figure size 640x480 with 1 Axes>"
      ]
     },
     "metadata": {},
     "output_type": "display_data"
    }
   ],
   "source": [
    "plt.plot(range(1, len(X_train.columns)), train_scores, label=\"train\")\n",
    "plt.plot(range(1, len(X_train.columns)), test_scores, label=\"validation\")\n",
    "plt.legend()\n",
    "plt.tight_layout()\n"
   ]
  },
  {
   "cell_type": "code",
   "execution_count": 32,
   "metadata": {},
   "outputs": [
    {
     "data": {
      "text/plain": [
       "0.9400000000000001"
      ]
     },
     "execution_count": 32,
     "metadata": {},
     "output_type": "execute_result"
    }
   ],
   "source": [
    "# Your code here\n",
    "cv = RepeatedKFold(n_splits=10, n_repeats=3, random_state=1)\n",
    "model = LassoCV(alphas=np.arange(0, 1, 0.01), cv=cv, n_jobs=-1)\n",
    "model.fit(X_train, y_train)\n",
    "model.alpha_"
   ]
  },
  {
   "cell_type": "markdown",
   "metadata": {},
   "source": [
    "Compare the results. Which features would you choose to use?"
   ]
  },
  {
   "cell_type": "code",
   "execution_count": null,
   "metadata": {},
   "outputs": [],
   "source": [
    "# Your written answer here"
   ]
  },
  {
   "cell_type": "markdown",
   "metadata": {},
   "source": [
    "## Evaluate Final Model on Test Data\n",
    "\n",
    "### Data Preparation\n",
    "\n",
    "At the start of this lab, we created `X_test` and `y_test`. Prepare `X_test` the same way that `X_train` and `X_val` have been prepared. This includes scaling, adding interactions, and adding polynomial terms."
   ]
  },
  {
   "cell_type": "code",
   "execution_count": 34,
   "metadata": {},
   "outputs": [],
   "source": [
    "# Your code here"
   ]
  },
  {
   "cell_type": "markdown",
   "metadata": {},
   "source": [
    "### Evaluation"
   ]
  },
  {
   "cell_type": "markdown",
   "metadata": {},
   "source": [
    "Using either `RFE` or `Lasso`, fit a model on the complete train + validation set, then find R-Squared and MSE values for the test set."
   ]
  },
  {
   "cell_type": "code",
   "execution_count": null,
   "metadata": {},
   "outputs": [],
   "source": [
    "# Your code here\n",
    "lasso = Lasso()\n",
    "lasso.fit(X_train, y_train)\n",
    "lasso.score(X_val, y_val)"
   ]
  },
  {
   "cell_type": "markdown",
   "metadata": {},
   "source": [
    "## Level Up Ideas (Optional)\n",
    "\n",
    "### Create a Lasso Path\n",
    "\n",
    "From this section, you know that when using `Lasso`, more parameters shrink to zero as your regularization parameter goes up. In scikit-learn there is a function `lasso_path()` which visualizes the shrinkage of the coefficients while $alpha$ changes. Try this out yourself!\n",
    "\n",
    "https://scikit-learn.org/stable/auto_examples/linear_model/plot_lasso_coordinate_descent_path.html#sphx-glr-auto-examples-linear-model-plot-lasso-coordinate-descent-path-py\n",
    "\n",
    "### AIC and BIC for Subset Selection\n",
    "\n",
    "This notebook shows how you can use AIC and BIC purely for feature selection. Try this code out on our Ames housing data!\n",
    "\n",
    "https://xavierbourretsicotte.github.io/subset_selection.html"
   ]
  },
  {
   "cell_type": "markdown",
   "metadata": {},
   "source": [
    "## Summary"
   ]
  },
  {
   "cell_type": "markdown",
   "metadata": {},
   "source": [
    "Congratulations! You now know how to apply concepts of bias-variance tradeoff using extensions to linear models and feature selection."
   ]
  }
 ],
 "metadata": {
  "kernelspec": {
   "display_name": "Python 3 (ipykernel)",
   "language": "python",
   "name": "python3"
  },
  "language_info": {
   "codemirror_mode": {
    "name": "ipython",
    "version": 3
   },
   "file_extension": ".py",
   "mimetype": "text/x-python",
   "name": "python",
   "nbconvert_exporter": "python",
   "pygments_lexer": "ipython3",
   "version": "3.12.4"
  }
 },
 "nbformat": 4,
 "nbformat_minor": 4
}
